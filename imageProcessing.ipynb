{
 "cells": [
  {
   "cell_type": "code",
   "execution_count": 1,
   "metadata": {},
   "outputs": [],
   "source": [
    "from scipy import ndimage\n",
    "import matplotlib.pyplot as plt\n",
    "import numpy as np\n",
    "import os\n",
    "import skimage.io as io\n",
    "from skimage.transform import resize\n",
    "import math as ma\n",
    "import yaml"
   ]
  },
  {
   "cell_type": "code",
   "execution_count": 34,
   "metadata": {},
   "outputs": [
    {
     "name": "stdout",
     "output_type": "stream",
     "text": [
      "(512, 544)\n",
      "[-12.2, -13.8]\n",
      "[-12.2, -13.8]\n",
      "[-12.2, 11.8]\n",
      "[-12.2, -13.75]\n",
      "[14.950000000000003, 11.8]\n",
      "[14.950000000000003, -13.75]\n",
      "[0, 0]\n",
      "hi\n",
      "2797 2797\n",
      "16\n",
      "[  0 205 206 207 208 209 216 217 218 224 227 228 232 236 247 254]\n",
      "[236, 243]\n",
      "0\n",
      "254\n"
     ]
    },
    {
     "data": {
      "image/png": "[encoded data removed]",
      "text/plain": [
       "<Figure size 432x288 with 1 Axes>"
      ]
     },
     "metadata": {
      "needs_background": "light"
     },
     "output_type": "display_data"
    },
    {
     "data": {
      "image/png": "[encoded data removed]",
      "text/plain": [
       "<Figure size 432x288 with 1 Axes>"
      ]
     },
     "metadata": {
      "needs_background": "light"
     },
     "output_type": "display_data"
    }
   ],
   "source": [
    "filename = \"maps/my_map - Copy.pgm\"           #created a copy of the map with all the extra white space taken away\n",
    "im = io.imread(filename)\n",
    "\n",
    "print(im.shape)\n",
    "rows=im.shape[0]     #number of rows in the image\n",
    "cols=im.shape[1]     #number of columns in the image\n",
    "#print(im[250][250])\n",
    "\n",
    "f = open(\"maps/my_map.yaml\",\"r\")\n",
    "#print(f.read())\n",
    "parsed_yaml_file = yaml.load(f, Loader=yaml.FullLoader)\n",
    "#print(parsed_yaml_file[\"origin\"])\n",
    "\n",
    "resolution=parsed_yaml_file[\"resolution\"]\n",
    "origin=[0,0]\n",
    "origin[0]=parsed_yaml_file[\"origin\"][0]\n",
    "origin[1]=parsed_yaml_file[\"origin\"][1]\n",
    "print(origin)\n",
    "\n",
    "leftBotLoc=[0,0]\n",
    "leftBotLoc[0]=parsed_yaml_file[\"origin\"][0]\n",
    "leftBotLoc[1]=parsed_yaml_file[\"origin\"][1]\n",
    "\n",
    "def genExtraBorderedimage(im):   #The extra bordered image is the one that is to be used, as it helps us make sure\n",
    "    ebim=np.copy(im)             #that the robot does not collide with the wall.\n",
    "    for i in range(rows):        #One problem this function could cause is that the coordinate (0,0) will be merged with the \n",
    "        for j in range(cols):    #border. But that doesn't matter, because we use this code to generate a collision-free path\n",
    "            if im[i][j]<10:      \n",
    "                for x in range(5):\n",
    "                    for y in range(5):\n",
    "                        ebim[i+x][j+y]=0\n",
    "    return ebim\n",
    "\n",
    "ebim=genExtraBorderedimage(im)     \n",
    "\n",
    "print(leftBotLoc)        #real coordinates of the left-most bottom pixel\n",
    "\n",
    "#locationMatrix = [[[0,0]]*cols]*rows\n",
    "#for j in range(rows):\n",
    "#    for i in range(cols):\n",
    "#        locationMatrix[j][i]=[x0,y0]\n",
    "#        #print(j,i,x0,y0,locationMatrix[j][i])\n",
    "#        x0=x0+resolution\n",
    "#    y0=y0-resolution\n",
    "#    x0=x00\n",
    "\n",
    "#print(locationMatrix[0][300])\n",
    "#print(locationMatrix[0][0])\n",
    "#print(locationMatrix[511][0])\n",
    "#print(locationMatrix[0][543])\n",
    "#print(locationMatrix[511][543])\n",
    "\n",
    "def xyFromRowCol(rowNo,colNo):         #gets the real coordinates for a given row and column number, i.e. pixel location\n",
    "    x=(colNo*resolution)+leftBotLoc[0]\n",
    "    y=((rows-rowNo)*resolution)+leftBotLoc[1]\n",
    "    return [x,y]\n",
    "\n",
    "def RowColFromXY(x,y):                #gets the pixel location for a given real coordinate\n",
    "    colNo=(x-leftBotLoc[0])/resolution\n",
    "    rowNo=rows-((y-leftBotLoc[1])/resolution)\n",
    "    return [int(rowNo),int(colNo)]\n",
    "\n",
    "\n",
    "print(xyFromRowCol(0,0))\n",
    "print(xyFromRowCol(511,0))\n",
    "print(xyFromRowCol(0,543))\n",
    "print(xyFromRowCol(511,543))\n",
    "\n",
    "print(RowColFromXY(-12.2,11.8))\n",
    "\n",
    "def genRequiredPath(im):            #generates an orderly path in the required region\n",
    "    path=[]\n",
    "    pixelPath=[]\n",
    "    for i in range(0,rows,2):\n",
    "        for j in range(cols):\n",
    "            if im[i][j]>250:\n",
    "                point=xyFromRowCol(i,j)\n",
    "                path.append(point)\n",
    "                pixeLoc=[i,j]\n",
    "                pixelPath.append(pixeLoc)\n",
    "        i=i+1\n",
    "        for j in range(cols-1,-1,-1):\n",
    "            if im[i][j]>250:\n",
    "                point=xyFromRowCol(i,j)\n",
    "                path.append(point)\n",
    "                pixeLoc=[i,j]\n",
    "                pixelPath.append(pixeLoc)\n",
    "    return path,pixelPath\n",
    "        \n",
    "print(\"hi\")\n",
    "path,pixelPath=genRequiredPath(ebim)\n",
    "print(len(path),len(pixelPath))\n",
    "\n",
    "#print(path)        #The path the robot has to follow in terms of real coordinates\n",
    "#print(pixelPath)    #The path the robot has to follow in terms of pixel coordinates\n",
    "\n",
    "uni=np.unique(im)\n",
    "print(len(uni))\n",
    "print(uni)\n",
    "\n",
    "\n",
    "loc=RowColFromXY(0,0)\n",
    "print(loc)\n",
    "print(ebim[loc[0]][loc[1]])\n",
    "print(im[loc[0]][loc[1]])\n",
    "\n",
    "\n",
    "plt.figure()\n",
    "plt.imshow(im,cmap=\"gray\")\n",
    "plt.figure()\n",
    "plt.imshow(ebim,cmap=\"gray\")\n",
    "plt.axis(\"off\")\n",
    "plt.show()"
   ]
  },
  {
   "cell_type": "code",
   "execution_count": null,
   "metadata": {},
   "outputs": [],
   "source": []
  }
 ],
 "metadata": {
  "kernelspec": {
   "display_name": "Python 3",
   "language": "python",
   "name": "python3"
  },
  "language_info": {
   "codemirror_mode": {
    "name": "ipython",
    "version": 3
   },
   "file_extension": ".py",
   "mimetype": "text/x-python",
   "name": "python",
   "nbconvert_exporter": "python",
   "pygments_lexer": "ipython3",
   "version": "3.8.5"
  }
 },
 "nbformat": 4,
 "nbformat_minor": 4
}
